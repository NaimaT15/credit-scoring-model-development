{
 "cells": [
  {
   "cell_type": "code",
   "execution_count": 2,
   "metadata": {},
   "outputs": [],
   "source": [
    "import pandas as pd\n",
    "import sys\n",
    "import os\n",
    "\n",
    "# Add the scripts directory to the Python path\n",
    "sys.path.append(os.path.abspath('../scripts'))"
   ]
  },
  {
   "cell_type": "code",
   "execution_count": 3,
   "metadata": {},
   "outputs": [],
   "source": [
    "\n",
    "# Load the data_filledset\n",
    "from credit_scoring_model_development import load_dataset\n",
    "\n",
    "\n",
    "# Load the dataset\n",
    "file_path = r'C:\\Users\\Naim\\credit-scoring-model-development\\data\\data.csv'\n",
    "data = load_dataset(file_path)"
   ]
  },
  {
   "cell_type": "code",
   "execution_count": 4,
   "metadata": {},
   "outputs": [
    {
     "name": "stdout",
     "output_type": "stream",
     "text": [
      "Column 'Amount': Outliers filled using capping method with lower bound = -4325.00 and upper bound = 7075.00.\n",
      "Column 'Value': Outliers filled using capping method with lower bound = -6812.50 and upper bound = 12087.50.\n",
      "Column 'PricingStrategy': Outliers filled using capping method with lower bound = 2.00 and upper bound = 2.00.\n",
      "Column 'FraudResult': Outliers filled using capping method with lower bound = 0.00 and upper bound = 0.00.\n",
      "data_filledset after filling outliers:\n",
      "             Amount         Value  PricingStrategy  FraudResult\n",
      "count  95662.000000  95662.000000          95662.0      95662.0\n",
      "mean    1449.051201   3403.667282              2.0          0.0\n",
      "std     3210.808287   4168.243292              0.0          0.0\n",
      "min    -4325.000000      2.000000              2.0          0.0\n",
      "25%      -50.000000    275.000000              2.0          0.0\n",
      "50%     1000.000000   1000.000000              2.0          0.0\n",
      "75%     2800.000000   5000.000000              2.0          0.0\n",
      "max     7075.000000  12087.500000              2.0          0.0\n"
     ]
    }
   ],
   "source": [
    "from EDA import fill_outliers\n",
    "# Columns to fill outliers for\n",
    "columns_to_fill = ['Amount', 'Value', 'PricingStrategy', 'FraudResult']\n",
    "\n",
    "# Fill outliers in the specified columns\n",
    "data_filled = fill_outliers(data, columns=columns_to_fill)\n",
    "\n",
    "# Check the changes in the data_filledset\n",
    "print(\"data_filledset after filling outliers:\")\n",
    "print(data_filled[columns_to_fill].describe())"
   ]
  },
  {
   "cell_type": "markdown",
   "metadata": {},
   "source": [
    "# Create Aggregate Features"
   ]
  },
  {
   "cell_type": "code",
   "execution_count": 5,
   "metadata": {},
   "outputs": [
    {
     "name": "stdout",
     "output_type": "stream",
     "text": [
      "Advanced aggregate features created successfully for each customer.\n",
      "Customer Advanced Aggregate Features:\n",
      "        CustomerId  Total_Transaction_Amount  Average_Transaction_Amount  \\\n",
      "0     CustomerId_1                   -4325.0                -4325.000000   \n",
      "1    CustomerId_10                   -4325.0                -4325.000000   \n",
      "2  CustomerId_1001                   14825.0                 2965.000000   \n",
      "3  CustomerId_1002                    4225.0                  384.090909   \n",
      "4  CustomerId_1003                   14825.0                 2470.833333   \n",
      "\n",
      "   Transaction_Count  Std_Dev_Transaction_Amount  Max_Transaction_Amount  \\\n",
      "0                  1                    0.000000                 -4325.0   \n",
      "1                  1                    0.000000                 -4325.0   \n",
      "2                  5                 5048.285600                  7075.0   \n",
      "3                 11                  560.498966                  1500.0   \n",
      "4                  6                 4597.537837                  7075.0   \n",
      "\n",
      "   Min_Transaction_Amount  Median_Transaction_Amount  \\\n",
      "0                 -4325.0                    -4325.0   \n",
      "1                 -4325.0                    -4325.0   \n",
      "2                 -4325.0                     5200.0   \n",
      "3                   -75.0                      -25.0   \n",
      "4                 -4325.0                     3000.0   \n",
      "\n",
      "   Transaction_Amount_Range  Skewness_Transaction_Amount  \\\n",
      "0                       0.0                     0.000000   \n",
      "1                       0.0                     0.000000   \n",
      "2                   11400.0                    -0.871531   \n",
      "3                    1575.0                     0.958495   \n",
      "4                   11400.0                    -0.472397   \n",
      "\n",
      "   Total_Unique_Products  Total_Unique_Product_Categories  \n",
      "0                      1                                1  \n",
      "1                      1                                1  \n",
      "2                      3                                2  \n",
      "3                      3                                2  \n",
      "4                      4                                2  \n"
     ]
    },
    {
     "name": "stderr",
     "output_type": "stream",
     "text": [
      "c:\\Users\\Naim\\credit-scoring-model-development\\scripts\\credit_scoring_model_development.py:38: FutureWarning: A value is trying to be set on a copy of a DataFrame or Series through chained assignment using an inplace method.\n",
      "The behavior will change in pandas 3.0. This inplace method will never work because the intermediate object on which we are setting values always behaves as a copy.\n",
      "\n",
      "For example, when doing 'df[col].method(value, inplace=True)', try using 'df.method({col: value}, inplace=True)' or df[col] = df[col].method(value) instead, to perform the operation inplace on the original object.\n",
      "\n",
      "\n",
      "  aggregate_features['Std_Dev_Transaction_Amount'].fillna(0, inplace=True)\n",
      "c:\\Users\\Naim\\credit-scoring-model-development\\scripts\\credit_scoring_model_development.py:39: FutureWarning: A value is trying to be set on a copy of a DataFrame or Series through chained assignment using an inplace method.\n",
      "The behavior will change in pandas 3.0. This inplace method will never work because the intermediate object on which we are setting values always behaves as a copy.\n",
      "\n",
      "For example, when doing 'df[col].method(value, inplace=True)', try using 'df.method({col: value}, inplace=True)' or df[col] = df[col].method(value) instead, to perform the operation inplace on the original object.\n",
      "\n",
      "\n",
      "  aggregate_features['Skewness_Transaction_Amount'].fillna(0, inplace=True)\n"
     ]
    }
   ],
   "source": [
    "from credit_scoring_model_development import create_advanced_aggregate_features\n",
    "customer_advanced_features = create_advanced_aggregate_features(data_filled)\n",
    "\n",
    "# Display the first few rows of the aggregated feature set\n",
    "print(\"Customer Advanced Aggregate Features:\")\n",
    "print(customer_advanced_features.head())"
   ]
  },
  {
   "cell_type": "markdown",
   "metadata": {},
   "source": [
    "# Extract Features"
   ]
  },
  {
   "cell_type": "code",
   "execution_count": 6,
   "metadata": {},
   "outputs": [
    {
     "name": "stdout",
     "output_type": "stream",
     "text": [
      "Datetime features extracted successfully.\n",
      "data_filledset with extracted datetime features:\n",
      "       TransactionStartTime  Transaction_Hour  Transaction_Day  \\\n",
      "0 2018-11-15 02:18:49+00:00                 2               15   \n",
      "1 2018-11-15 02:19:08+00:00                 2               15   \n",
      "2 2018-11-15 02:44:21+00:00                 2               15   \n",
      "3 2018-11-15 03:32:55+00:00                 3               15   \n",
      "4 2018-11-15 03:34:21+00:00                 3               15   \n",
      "\n",
      "   Transaction_Month  Transaction_Year  Transaction_DayOfWeek  \\\n",
      "0                 11              2018                      3   \n",
      "1                 11              2018                      3   \n",
      "2                 11              2018                      3   \n",
      "3                 11              2018                      3   \n",
      "4                 11              2018                      3   \n",
      "\n",
      "   Transaction_WeekOfYear  \n",
      "0                      46  \n",
      "1                      46  \n",
      "2                      46  \n",
      "3                      46  \n",
      "4                      46  \n"
     ]
    }
   ],
   "source": [
    "# Import the function from the script file\n",
    "from credit_scoring_model_development import extract_datetime_features\n",
    "\n",
    "# Assuming the data set has already been loaded and is stored in `data_filled`\n",
    "data_filled = extract_datetime_features(data_filled, timestamp_column='TransactionStartTime')\n",
    "\n",
    "# Display the first few rows of the data_filledset with new features\n",
    "print(\"data_filledset with extracted datetime features:\")\n",
    "print(data_filled[['TransactionStartTime', 'Transaction_Hour', 'Transaction_Day', 'Transaction_Month', 'Transaction_Year', 'Transaction_DayOfWeek', 'Transaction_WeekOfYear']].head())\n"
   ]
  },
  {
   "cell_type": "code",
   "execution_count": 7,
   "metadata": {},
   "outputs": [
    {
     "name": "stdout",
     "output_type": "stream",
     "text": [
      "TransactionId                          object\n",
      "BatchId                                object\n",
      "AccountId                              object\n",
      "SubscriptionId                         object\n",
      "CustomerId                             object\n",
      "CurrencyCode                           object\n",
      "CountryCode                             int64\n",
      "ProviderId                             object\n",
      "ProductId                              object\n",
      "ProductCategory                        object\n",
      "ChannelId                              object\n",
      "Amount                                float64\n",
      "Value                                 float64\n",
      "TransactionStartTime      datetime64[ns, UTC]\n",
      "PricingStrategy                       float64\n",
      "FraudResult                           float64\n",
      "Transaction_Hour                        int32\n",
      "Transaction_Day                         int32\n",
      "Transaction_Month                       int32\n",
      "Transaction_Year                        int32\n",
      "Transaction_DayOfWeek                   int32\n",
      "Transaction_WeekOfYear                 UInt32\n",
      "dtype: object\n"
     ]
    }
   ],
   "source": [
    "print(data_filled.dtypes)"
   ]
  },
  {
   "cell_type": "code",
   "execution_count": 8,
   "metadata": {},
   "outputs": [
    {
     "name": "stdout",
     "output_type": "stream",
     "text": [
      "data_filledset before encoding:\n",
      "         TransactionId         BatchId       AccountId       SubscriptionId  \\\n",
      "0  TransactionId_76871   BatchId_36123  AccountId_3957   SubscriptionId_887   \n",
      "1  TransactionId_73770   BatchId_15642  AccountId_4841  SubscriptionId_3829   \n",
      "2  TransactionId_26203   BatchId_53941  AccountId_4229   SubscriptionId_222   \n",
      "3    TransactionId_380  BatchId_102363   AccountId_648  SubscriptionId_2185   \n",
      "4  TransactionId_28195   BatchId_38780  AccountId_4841  SubscriptionId_3829   \n",
      "\n",
      "        CustomerId CurrencyCode  CountryCode    ProviderId     ProductId  \\\n",
      "0  CustomerId_4406          UGX          256  ProviderId_6  ProductId_10   \n",
      "1  CustomerId_4406          UGX          256  ProviderId_4   ProductId_6   \n",
      "2  CustomerId_4683          UGX          256  ProviderId_6   ProductId_1   \n",
      "3   CustomerId_988          UGX          256  ProviderId_1  ProductId_21   \n",
      "4   CustomerId_988          UGX          256  ProviderId_4   ProductId_6   \n",
      "\n",
      "      ProductCategory  ...    Value      TransactionStartTime  \\\n",
      "0             airtime  ...   1000.0 2018-11-15 02:18:49+00:00   \n",
      "1  financial_services  ...     20.0 2018-11-15 02:19:08+00:00   \n",
      "2             airtime  ...    500.0 2018-11-15 02:44:21+00:00   \n",
      "3        utility_bill  ...  12087.5 2018-11-15 03:32:55+00:00   \n",
      "4  financial_services  ...    644.0 2018-11-15 03:34:21+00:00   \n",
      "\n",
      "   PricingStrategy FraudResult  Transaction_Hour  Transaction_Day  \\\n",
      "0              2.0         0.0                 2               15   \n",
      "1              2.0         0.0                 2               15   \n",
      "2              2.0         0.0                 2               15   \n",
      "3              2.0         0.0                 3               15   \n",
      "4              2.0         0.0                 3               15   \n",
      "\n",
      "   Transaction_Month  Transaction_Year  Transaction_DayOfWeek  \\\n",
      "0                 11              2018                      3   \n",
      "1                 11              2018                      3   \n",
      "2                 11              2018                      3   \n",
      "3                 11              2018                      3   \n",
      "4                 11              2018                      3   \n",
      "\n",
      "   Transaction_WeekOfYear  \n",
      "0                      46  \n",
      "1                      46  \n",
      "2                      46  \n",
      "3                      46  \n",
      "4                      46  \n",
      "\n",
      "[5 rows x 22 columns]\n",
      "Found 10 categorical columns to encode: ['TransactionId', 'BatchId', 'AccountId', 'SubscriptionId', 'CustomerId', 'CurrencyCode', 'ProviderId', 'ProductId', 'ProductCategory', 'ChannelId']\n",
      "Applying Label Encoding to 'TransactionId' with 95662 unique values.\n",
      "Column 'TransactionId' has been Label Encoded with 95662 unique values.\n",
      "Applying Label Encoding to 'BatchId' with 94809 unique values.\n",
      "Column 'BatchId' has been Label Encoded with 94809 unique values.\n",
      "Applying Label Encoding to 'AccountId' with 3633 unique values.\n",
      "Column 'AccountId' has been Label Encoded with 3633 unique values.\n",
      "Applying Label Encoding to 'SubscriptionId' with 3627 unique values.\n",
      "Column 'SubscriptionId' has been Label Encoded with 3627 unique values.\n",
      "Applying Label Encoding to 'CustomerId' with 3742 unique values.\n",
      "Column 'CustomerId' has been Label Encoded with 3742 unique values.\n",
      "Applying One-Hot Encoding to 'CurrencyCode' with 1 unique values.\n",
      "Applying One-Hot Encoding to 'ProviderId' with 6 unique values.\n",
      "Applying Label Encoding to 'ProductId' with 23 unique values.\n",
      "Column 'ProductId' has been Label Encoded with 23 unique values.\n",
      "Applying One-Hot Encoding to 'ProductCategory' with 9 unique values.\n",
      "Applying One-Hot Encoding to 'ChannelId' with 4 unique values.\n",
      "All categorical columns encoded successfully.\n",
      "data_filledset after encoding all categorical columns:\n",
      "   TransactionId  BatchId  AccountId  SubscriptionId  CustomerId  CountryCode  \\\n",
      "0          78150    46980       2490            3535        2584          256   \n",
      "1          75821    31755       3219            2366        2584          256   \n",
      "2          39888    60272       2713             996        2806          256   \n",
      "3          48738     1797       3351             974        3733          256   \n",
      "4          41364    48941       3219            2366        3733          256   \n",
      "\n",
      "   ProductId  Amount    Value      TransactionStartTime  ...  \\\n",
      "0          1  1000.0   1000.0 2018-11-15 02:18:49+00:00  ...   \n",
      "1         19   -20.0     20.0 2018-11-15 02:19:08+00:00  ...   \n",
      "2          0   500.0    500.0 2018-11-15 02:44:21+00:00  ...   \n",
      "3         11  7075.0  12087.5 2018-11-15 03:32:55+00:00  ...   \n",
      "4         19  -644.0    644.0 2018-11-15 03:34:21+00:00  ...   \n",
      "\n",
      "   ProductCategory_financial_services  ProductCategory_movies  \\\n",
      "0                               False                   False   \n",
      "1                                True                   False   \n",
      "2                               False                   False   \n",
      "3                               False                   False   \n",
      "4                                True                   False   \n",
      "\n",
      "   ProductCategory_other  ProductCategory_ticket  ProductCategory_transport  \\\n",
      "0                  False                   False                      False   \n",
      "1                  False                   False                      False   \n",
      "2                  False                   False                      False   \n",
      "3                  False                   False                      False   \n",
      "4                  False                   False                      False   \n",
      "\n",
      "   ProductCategory_tv  ProductCategory_utility_bill  ChannelId_ChannelId_2  \\\n",
      "0               False                         False                  False   \n",
      "1               False                         False                   True   \n",
      "2               False                         False                  False   \n",
      "3               False                          True                  False   \n",
      "4               False                         False                   True   \n",
      "\n",
      "   ChannelId_ChannelId_3  ChannelId_ChannelId_5  \n",
      "0                   True                  False  \n",
      "1                  False                  False  \n",
      "2                   True                  False  \n",
      "3                   True                  False  \n",
      "4                  False                  False  \n",
      "\n",
      "[5 rows x 34 columns]\n"
     ]
    }
   ],
   "source": [
    "# Import the functions from the script file\n",
    "from credit_scoring_model_development import encode_all_categorical\n",
    "\n",
    "print(\"data_filledset before encoding:\")\n",
    "print(data_filled.head())\n",
    "\n",
    "# Encode all categorical columns\n",
    "data_filled_encoded = encode_all_categorical(data_filled, max_unique_values=10)\n",
    "\n",
    "# Display the first few rows of the encoded data_filledset\n",
    "print(\"data_filledset after encoding all categorical columns:\")\n",
    "print(data_filled_encoded.head())\n",
    "\n"
   ]
  },
  {
   "cell_type": "code",
   "execution_count": 9,
   "metadata": {},
   "outputs": [
    {
     "name": "stdout",
     "output_type": "stream",
     "text": [
      "data_filled types of columns:\n",
      "TransactionId                                       int64\n",
      "BatchId                                             int64\n",
      "AccountId                                           int64\n",
      "SubscriptionId                                      int64\n",
      "CustomerId                                          int64\n",
      "CountryCode                                         int64\n",
      "ProductId                                           int64\n",
      "Amount                                            float64\n",
      "Value                                             float64\n",
      "TransactionStartTime                  datetime64[ns, UTC]\n",
      "PricingStrategy                                   float64\n",
      "FraudResult                                       float64\n",
      "Transaction_Hour                                    int32\n",
      "Transaction_Day                                     int32\n",
      "Transaction_Month                                   int32\n",
      "Transaction_Year                                    int32\n",
      "Transaction_DayOfWeek                               int32\n",
      "Transaction_WeekOfYear                             UInt32\n",
      "ProviderId_ProviderId_2                              bool\n",
      "ProviderId_ProviderId_3                              bool\n",
      "ProviderId_ProviderId_4                              bool\n",
      "ProviderId_ProviderId_5                              bool\n",
      "ProviderId_ProviderId_6                              bool\n",
      "ProductCategory_data_bundles                         bool\n",
      "ProductCategory_financial_services                   bool\n",
      "ProductCategory_movies                               bool\n",
      "ProductCategory_other                                bool\n",
      "ProductCategory_ticket                               bool\n",
      "ProductCategory_transport                            bool\n",
      "ProductCategory_tv                                   bool\n",
      "ProductCategory_utility_bill                         bool\n",
      "ChannelId_ChannelId_2                                bool\n",
      "ChannelId_ChannelId_3                                bool\n",
      "ChannelId_ChannelId_5                                bool\n",
      "dtype: object\n",
      "Remaining categorical columns (not encoded): []\n"
     ]
    }
   ],
   "source": [
    "# Check the data_filled types of all columns\n",
    "print(\"data_filled types of columns:\")\n",
    "print(data_filled_encoded.dtypes)\n",
    "\n",
    "# Identify columns that are still of object type (potentially not encoded)\n",
    "remaining_categorical_columns = data_filled_encoded.select_dtypes(include='object').columns\n",
    "print(f\"Remaining categorical columns (not encoded): {list(remaining_categorical_columns)}\")\n"
   ]
  },
  {
   "cell_type": "code",
   "execution_count": 10,
   "metadata": {},
   "outputs": [
    {
     "name": "stdout",
     "output_type": "stream",
     "text": [
      "Columns with Missing Values:\n",
      "Empty DataFrame\n",
      "Columns: [Missing Values, % of Total Values]\n",
      "Index: []\n"
     ]
    }
   ],
   "source": [
    "from credit_scoring_model_development import missing_values_summary\n",
    "# Check the missing values in the data_filledset\n",
    "missing_summary = missing_values_summary(data_filled_encoded)\n",
    "print(missing_summary)"
   ]
  },
  {
   "cell_type": "code",
   "execution_count": 11,
   "metadata": {},
   "outputs": [
    {
     "name": "stdout",
     "output_type": "stream",
     "text": [
      "Scaling method: normalization\n",
      "Columns to scale: Index(['TransactionId', 'BatchId', 'AccountId', 'SubscriptionId', 'CustomerId',\n",
      "       'CountryCode', 'ProductId', 'Amount', 'Value', 'PricingStrategy',\n",
      "       'FraudResult', 'Transaction_Hour', 'Transaction_Day',\n",
      "       'Transaction_Month', 'Transaction_Year', 'Transaction_DayOfWeek',\n",
      "       'Transaction_WeekOfYear'],\n",
      "      dtype='object')\n",
      "Numerical columns scaled using normalization.\n",
      "Normalized data_filledset:\n",
      "   TransactionId   BatchId  AccountId  SubscriptionId  CustomerId  \\\n",
      "0       0.816947  0.495528   0.685573        0.974903    0.690724   \n",
      "1       0.792601  0.334940   0.886289        0.652510    0.690724   \n",
      "2       0.416972  0.635727   0.746971        0.274683    0.750067   \n",
      "3       0.509487  0.018954   0.922632        0.268616    0.997862   \n",
      "4       0.432402  0.516212   0.886289        0.652510    0.997862   \n",
      "\n",
      "   CountryCode  ProductId    Amount     Value      TransactionStartTime  ...  \\\n",
      "0          0.0   0.045455  0.467105  0.082578 2018-11-15 02:18:49+00:00  ...   \n",
      "1          0.0   0.863636  0.377632  0.001489 2018-11-15 02:19:08+00:00  ...   \n",
      "2          0.0   0.000000  0.423246  0.041206 2018-11-15 02:44:21+00:00  ...   \n",
      "3          0.0   0.500000  1.000000  1.000000 2018-11-15 03:32:55+00:00  ...   \n",
      "4          0.0   0.863636  0.322895  0.053122 2018-11-15 03:34:21+00:00  ...   \n",
      "\n",
      "   ProductCategory_financial_services  ProductCategory_movies  \\\n",
      "0                               False                   False   \n",
      "1                                True                   False   \n",
      "2                               False                   False   \n",
      "3                               False                   False   \n",
      "4                                True                   False   \n",
      "\n",
      "   ProductCategory_other  ProductCategory_ticket  ProductCategory_transport  \\\n",
      "0                  False                   False                      False   \n",
      "1                  False                   False                      False   \n",
      "2                  False                   False                      False   \n",
      "3                  False                   False                      False   \n",
      "4                  False                   False                      False   \n",
      "\n",
      "   ProductCategory_tv  ProductCategory_utility_bill  ChannelId_ChannelId_2  \\\n",
      "0               False                         False                  False   \n",
      "1               False                         False                   True   \n",
      "2               False                         False                  False   \n",
      "3               False                          True                  False   \n",
      "4               False                         False                   True   \n",
      "\n",
      "   ChannelId_ChannelId_3  ChannelId_ChannelId_5  \n",
      "0                   True                  False  \n",
      "1                  False                  False  \n",
      "2                   True                  False  \n",
      "3                   True                  False  \n",
      "4                  False                  False  \n",
      "\n",
      "[5 rows x 34 columns]\n"
     ]
    }
   ],
   "source": [
    "# Import the scaling function from the script\n",
    "from credit_scoring_model_development import scale_numerical_features\n",
    "\n",
    "# Normalize all numerical columns\n",
    "data_filled_normalized = scale_numerical_features(data_filled_encoded.copy(), method='normalization')\n",
    "\n",
    "# Display the first few rows of the normalized data_filledset\n",
    "print(\"Normalized data_filledset:\")\n",
    "print(data_filled_normalized.head())\n"
   ]
  },
  {
   "cell_type": "code",
   "execution_count": 12,
   "metadata": {},
   "outputs": [
    {
     "name": "stdout",
     "output_type": "stream",
     "text": [
      "Scaling method: standardization\n",
      "Columns to scale: Index(['TransactionId', 'BatchId', 'AccountId', 'SubscriptionId', 'CustomerId',\n",
      "       'CountryCode', 'ProductId', 'Amount', 'Value', 'PricingStrategy',\n",
      "       'FraudResult', 'Transaction_Hour', 'Transaction_Day',\n",
      "       'Transaction_Month', 'Transaction_Year', 'Transaction_DayOfWeek',\n",
      "       'Transaction_WeekOfYear'],\n",
      "      dtype='object')\n",
      "Numerical columns scaled using standardization.\n",
      "Standardized data_filledset:\n",
      "   TransactionId   BatchId  AccountId  SubscriptionId  CustomerId  \\\n",
      "0       1.097926 -0.015563   0.153713        1.668646    0.595070   \n",
      "1       1.013589 -0.571733   0.867190        0.346449    0.595070   \n",
      "2      -0.287613  0.469994   0.371965       -1.203089    0.807169   \n",
      "3       0.032862 -1.666100   0.996380       -1.227972    1.692827   \n",
      "4      -0.234164  0.056072   0.867190        0.346449    1.692827   \n",
      "\n",
      "   CountryCode  ProductId    Amount     Value      TransactionStartTime  ...  \\\n",
      "0          0.0  -1.578054 -0.139857 -0.576665 2018-11-15 02:18:49+00:00  ...   \n",
      "1          0.0   0.916063 -0.457536 -0.811777 2018-11-15 02:19:08+00:00  ...   \n",
      "2          0.0  -1.716616 -0.295582 -0.696620 2018-11-15 02:44:21+00:00  ...   \n",
      "3          0.0  -0.192433  1.752200  2.083342 2018-11-15 03:32:55+00:00  ...   \n",
      "4          0.0   0.916063 -0.651880 -0.662073 2018-11-15 03:34:21+00:00  ...   \n",
      "\n",
      "   ProductCategory_financial_services  ProductCategory_movies  \\\n",
      "0                               False                   False   \n",
      "1                                True                   False   \n",
      "2                               False                   False   \n",
      "3                               False                   False   \n",
      "4                                True                   False   \n",
      "\n",
      "   ProductCategory_other  ProductCategory_ticket  ProductCategory_transport  \\\n",
      "0                  False                   False                      False   \n",
      "1                  False                   False                      False   \n",
      "2                  False                   False                      False   \n",
      "3                  False                   False                      False   \n",
      "4                  False                   False                      False   \n",
      "\n",
      "   ProductCategory_tv  ProductCategory_utility_bill  ChannelId_ChannelId_2  \\\n",
      "0               False                         False                  False   \n",
      "1               False                         False                   True   \n",
      "2               False                         False                  False   \n",
      "3               False                          True                  False   \n",
      "4               False                         False                   True   \n",
      "\n",
      "   ChannelId_ChannelId_3  ChannelId_ChannelId_5  \n",
      "0                   True                  False  \n",
      "1                  False                  False  \n",
      "2                   True                  False  \n",
      "3                   True                  False  \n",
      "4                  False                  False  \n",
      "\n",
      "[5 rows x 34 columns]\n"
     ]
    }
   ],
   "source": [
    "\n",
    "# Standardize all numerical columns\n",
    "data_filled_standardized = scale_numerical_features(data_filled_encoded.copy(), method='standardization')\n",
    "\n",
    "# Display the first few rows of the standardized data_filledset\n",
    "print(\"Standardized data_filledset:\")\n",
    "print(data_filled_standardized.head())\n"
   ]
  },
  {
   "cell_type": "code",
   "execution_count": 14,
   "metadata": {},
   "outputs": [
    {
     "data": {
      "image/png": "[encoded data removed]",
      "text/plain": [
       "<Figure size 1200x600 with 2 Axes>"
      ]
     },
     "metadata": {},
     "output_type": "display_data"
    }
   ],
   "source": [
    "import matplotlib.pyplot as plt\n",
    "import seaborn as sns\n",
    "\n",
    "# Visualize the distribution of a selected feature before and after scaling\n",
    "feature = 'Amount'\n",
    "plt.figure(figsize=(12, 6))\n",
    "\n",
    "# Original Distribution\n",
    "plt.subplot(1, 2, 1)\n",
    "sns.histplot(data_filled_encoded[feature], bins=30, kde=True, color='blue')\n",
    "plt.title(f'Original Distribution of {feature}')\n",
    "\n",
    "# Normalized Distribution\n",
    "plt.subplot(1, 2, 2)\n",
    "sns.histplot(data_filled_normalized[feature], bins=30, kde=True, color='green')\n",
    "plt.title(f'Normalized Distribution of {feature}')\n",
    "\n",
    "plt.tight_layout()\n",
    "plt.show()\n"
   ]
  }
 ],
 "metadata": {
  "kernelspec": {
   "display_name": "venv",
   "language": "python",
   "name": "python3"
  },
  "language_info": {
   "codemirror_mode": {
    "name": "ipython",
    "version": 3
   },
   "file_extension": ".py",
   "mimetype": "text/x-python",
   "name": "python",
   "nbconvert_exporter": "python",
   "pygments_lexer": "ipython3",
   "version": "3.11.9"
  }
 },
 "nbformat": 4,
 "nbformat_minor": 2
}
